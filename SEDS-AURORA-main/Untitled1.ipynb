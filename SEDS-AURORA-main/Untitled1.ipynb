{
  "nbformat": 4,
  "nbformat_minor": 0,
  "metadata": {
    "colab": {
      "provenance": []
    },
    "kernelspec": {
      "name": "python3",
      "display_name": "Python 3"
    },
    "language_info": {
      "name": "python"
    }
  },
  "cells": [
    {
      "cell_type": "markdown",
      "source": [
        "# **Connect to Google Drive**\n",
        "\n"
      ],
      "metadata": {
        "id": "VN0xEqFSeng1"
      }
    },
    {
      "cell_type": "code",
      "execution_count": null,
      "metadata": {
        "colab": {
          "base_uri": "https://localhost:8080/"
        },
        "id": "qvEhd9zdPWlQ",
        "outputId": "76b5844c-39ab-400a-cb7f-d675c3a888f7"
      },
      "outputs": [
        {
          "output_type": "stream",
          "name": "stdout",
          "text": [
            "Mounted at /content/drive\n"
          ]
        }
      ],
      "source": [
        "# prompt: connect to drive\n",
        "\n",
        "from google.colab import drive\n",
        "drive.mount('/content/drive')\n"
      ]
    },
    {
      "cell_type": "code",
      "source": [
        "!pip install obspy"
      ],
      "metadata": {
        "colab": {
          "base_uri": "https://localhost:8080/",
          "height": 755
        },
        "id": "dKwps2FsOEZK",
        "outputId": "8f237a7f-2718-407a-bf54-c7aabc0832c0"
      },
      "execution_count": null,
      "outputs": [
        {
          "output_type": "stream",
          "name": "stdout",
          "text": [
            "Collecting obspy\n",
            "  Downloading obspy-1.4.1-cp310-cp310-manylinux_2_17_x86_64.manylinux2014_x86_64.whl.metadata (3.7 kB)\n",
            "Requirement already satisfied: numpy>=1.20 in /usr/local/lib/python3.10/dist-packages (from obspy) (1.26.4)\n",
            "Requirement already satisfied: scipy>=1.7 in /usr/local/lib/python3.10/dist-packages (from obspy) (1.13.1)\n",
            "Requirement already satisfied: matplotlib>=3.3 in /usr/local/lib/python3.10/dist-packages (from obspy) (3.7.1)\n",
            "Requirement already satisfied: lxml in /usr/local/lib/python3.10/dist-packages (from obspy) (4.9.4)\n",
            "Requirement already satisfied: setuptools in /usr/local/lib/python3.10/dist-packages (from obspy) (71.0.4)\n",
            "Collecting sqlalchemy<2 (from obspy)\n",
            "  Downloading SQLAlchemy-1.4.54-cp310-cp310-manylinux_2_5_x86_64.manylinux1_x86_64.manylinux_2_17_x86_64.manylinux2014_x86_64.whl.metadata (10 kB)\n",
            "Requirement already satisfied: decorator in /usr/local/lib/python3.10/dist-packages (from obspy) (4.4.2)\n",
            "Requirement already satisfied: requests in /usr/local/lib/python3.10/dist-packages (from obspy) (2.32.3)\n",
            "Requirement already satisfied: contourpy>=1.0.1 in /usr/local/lib/python3.10/dist-packages (from matplotlib>=3.3->obspy) (1.3.0)\n",
            "Requirement already satisfied: cycler>=0.10 in /usr/local/lib/python3.10/dist-packages (from matplotlib>=3.3->obspy) (0.12.1)\n",
            "Requirement already satisfied: fonttools>=4.22.0 in /usr/local/lib/python3.10/dist-packages (from matplotlib>=3.3->obspy) (4.54.1)\n",
            "Requirement already satisfied: kiwisolver>=1.0.1 in /usr/local/lib/python3.10/dist-packages (from matplotlib>=3.3->obspy) (1.4.7)\n",
            "Requirement already satisfied: packaging>=20.0 in /usr/local/lib/python3.10/dist-packages (from matplotlib>=3.3->obspy) (24.1)\n",
            "Requirement already satisfied: pillow>=6.2.0 in /usr/local/lib/python3.10/dist-packages (from matplotlib>=3.3->obspy) (10.4.0)\n",
            "Requirement already satisfied: pyparsing>=2.3.1 in /usr/local/lib/python3.10/dist-packages (from matplotlib>=3.3->obspy) (3.1.4)\n",
            "Requirement already satisfied: python-dateutil>=2.7 in /usr/local/lib/python3.10/dist-packages (from matplotlib>=3.3->obspy) (2.8.2)\n",
            "Requirement already satisfied: greenlet!=0.4.17 in /usr/local/lib/python3.10/dist-packages (from sqlalchemy<2->obspy) (3.1.1)\n",
            "Requirement already satisfied: charset-normalizer<4,>=2 in /usr/local/lib/python3.10/dist-packages (from requests->obspy) (3.3.2)\n",
            "Requirement already satisfied: idna<4,>=2.5 in /usr/local/lib/python3.10/dist-packages (from requests->obspy) (3.10)\n",
            "Requirement already satisfied: urllib3<3,>=1.21.1 in /usr/local/lib/python3.10/dist-packages (from requests->obspy) (2.2.3)\n",
            "Requirement already satisfied: certifi>=2017.4.17 in /usr/local/lib/python3.10/dist-packages (from requests->obspy) (2024.8.30)\n",
            "Requirement already satisfied: six>=1.5 in /usr/local/lib/python3.10/dist-packages (from python-dateutil>=2.7->matplotlib>=3.3->obspy) (1.16.0)\n",
            "Downloading obspy-1.4.1-cp310-cp310-manylinux_2_17_x86_64.manylinux2014_x86_64.whl (14.5 MB)\n",
            "\u001b[2K   \u001b[90m━━━━━━━━━━━━━━━━━━━━━━━━━━━━━━━━━━━━━━━━\u001b[0m \u001b[32m14.5/14.5 MB\u001b[0m \u001b[31m56.5 MB/s\u001b[0m eta \u001b[36m0:00:00\u001b[0m\n",
            "\u001b[?25hDownloading SQLAlchemy-1.4.54-cp310-cp310-manylinux_2_5_x86_64.manylinux1_x86_64.manylinux_2_17_x86_64.manylinux2014_x86_64.whl (1.6 MB)\n",
            "\u001b[2K   \u001b[90m━━━━━━━━━━━━━━━━━━━━━━━━━━━━━━━━━━━━━━━━\u001b[0m \u001b[32m1.6/1.6 MB\u001b[0m \u001b[31m44.4 MB/s\u001b[0m eta \u001b[36m0:00:00\u001b[0m\n",
            "\u001b[?25hInstalling collected packages: sqlalchemy, obspy\n",
            "  Attempting uninstall: sqlalchemy\n",
            "    Found existing installation: SQLAlchemy 2.0.35\n",
            "    Uninstalling SQLAlchemy-2.0.35:\n",
            "      Successfully uninstalled SQLAlchemy-2.0.35\n",
            "\u001b[31mERROR: pip's dependency resolver does not currently take into account all the packages that are installed. This behaviour is the source of the following dependency conflicts.\n",
            "ipython-sql 0.5.0 requires sqlalchemy>=2.0, but you have sqlalchemy 1.4.54 which is incompatible.\u001b[0m\u001b[31m\n",
            "\u001b[0mSuccessfully installed obspy-1.4.1 sqlalchemy-1.4.54\n"
          ]
        },
        {
          "output_type": "display_data",
          "data": {
            "application/vnd.colab-display-data+json": {
              "pip_warning": {
                "packages": [
                  "signal"
                ]
              },
              "id": "baaa275a239c4dec885ade373fa1dbca"
            }
          },
          "metadata": {}
        }
      ]
    },
    {
      "cell_type": "markdown",
      "source": [
        "# **Download the zip file**"
      ],
      "metadata": {
        "id": "MGur4QsieyFf"
      }
    },
    {
      "cell_type": "code",
      "source": [
        "import requests\n",
        "\n",
        "# URL of the zip file to be downloaded\n",
        "url = 'https://wufs.wustl.edu/SpaceApps/data/space_apps_2024_seismic_detection.zip'\n",
        "\n",
        "# Path where the file should be saved\n",
        "output_path = '/content/drive/MyDrive/nasa_space_app/space_apps_2024_seismic_detection.zip'\n",
        "\n",
        "# Download the file\n",
        "response = requests.get(url)\n",
        "\n",
        "# Save the file to the specified path\n",
        "with open(output_path, 'wb') as file:\n",
        "    file.write(response.content)\n",
        "\n",
        "print(\"Download completed!\")\n"
      ],
      "metadata": {
        "id": "aHvrxclnQemm",
        "colab": {
          "base_uri": "https://localhost:8080/"
        },
        "outputId": "8a84139d-0954-4f90-ce74-efad27ae24e4"
      },
      "execution_count": null,
      "outputs": [
        {
          "output_type": "stream",
          "name": "stdout",
          "text": [
            "Download completed!\n"
          ]
        }
      ]
    },
    {
      "cell_type": "markdown",
      "source": [
        "# **Unzip the file**"
      ],
      "metadata": {
        "id": "yLRcx2eUe6EK"
      }
    },
    {
      "cell_type": "code",
      "source": [
        "# prompt: unzip the file  /content/drive/MyDrive/nasa_space_app/space_apps_2024_seismic_detection.zip\n",
        "\n",
        "import zipfile\n",
        "import os\n",
        "\n",
        "# Path to the zip file\n",
        "zip_file_path = '/content/drive/MyDrive/nasa_space_app/space_apps_2024_seismic_detection.zip'\n",
        "\n",
        "# Directory where the contents should be extracted\n",
        "extract_dir = '/content/drive/MyDrive/nasa_space_app/extracted_data'\n",
        "\n",
        "# Create the extract directory if it doesn't exist\n",
        "os.makedirs(extract_dir, exist_ok=True)\n",
        "\n",
        "# Unzip the file\n",
        "with zipfile.ZipFile(zip_file_path, 'r') as zip_ref:\n",
        "    zip_ref.extractall(extract_dir)\n",
        "\n",
        "print(\"Unzipping completed!\")\n"
      ],
      "metadata": {
        "id": "lTFM3bMeeMtE",
        "colab": {
          "base_uri": "https://localhost:8080/"
        },
        "outputId": "005cac5f-1fc6-4fc7-bf5c-8951941599d9"
      },
      "execution_count": null,
      "outputs": [
        {
          "output_type": "stream",
          "name": "stdout",
          "text": [
            "Unzipping completed!\n"
          ]
        }
      ]
    },
    {
      "cell_type": "markdown",
      "source": [
        "We need to make a dataframe to train the cnn model. Dataframe should consist of inputs and outputs. outputs is th  ratio of the division of the image where the sesimic quake occurs. we could convert the relative timestamp to ratio using(time/86400)\n",
        ". Input is the spectrography image which was made from the periodic collection of data using sesimometer. we need to convert the sesimomter data into a image which shows frequency distribution."
      ],
      "metadata": {
        "id": "BatJtwdqeoOc"
      }
    },
    {
      "cell_type": "markdown",
      "source": [
        "**imports**"
      ],
      "metadata": {
        "id": "xHlWOVCuh3Ff"
      }
    },
    {
      "cell_type": "code",
      "source": [
        "# Import libraries\n",
        "import re\n",
        "import numpy as np\n",
        "import pandas as pd\n",
        "from obspy import read\n",
        "from datetime import datetime, timedelta\n",
        "import matplotlib.pyplot as plt\n",
        "import os\n",
        "from scipy import signal\n",
        "from matplotlib import cm\n",
        "from obspy.signal.invsim import cosine_taper\n",
        "from obspy.signal.filter import highpass\n",
        "from obspy.signal.trigger import classic_sta_lta, plot_trigger, trigger_onset\n"
      ],
      "metadata": {
        "id": "KDmPkwyxh6RN"
      },
      "execution_count": null,
      "outputs": []
    },
    {
      "cell_type": "markdown",
      "source": [
        "**write the paths of the all directories where the data is present.**"
      ],
      "metadata": {
        "id": "G8OLsNkiiAmM"
      }
    },
    {
      "cell_type": "code",
      "source": [
        "# prompt: code to show the contents of the file in the path '/content/drive/MyDrive/nasa_space_app/extracted_data/space_apps_2024_seismic_detection/data/lunar/training'\n",
        "\n",
        "\n",
        "data_dir = '/content/drive/MyDrive/nasa_space_app/extracted_data/space_apps_2024_seismic_detection/data/lunar/training'\n",
        "\n",
        "# List all files and directories in the specified path\n",
        "for item in os.listdir(data_dir):\n",
        "  item_path = os.path.join(data_dir, item)\n",
        "  print(item_path)\n"
      ],
      "metadata": {
        "colab": {
          "base_uri": "https://localhost:8080/"
        },
        "id": "YIyHnP-oiTZA",
        "outputId": "8e3b5392-c9a3-4982-b8de-065561b59724"
      },
      "execution_count": null,
      "outputs": [
        {
          "output_type": "stream",
          "name": "stdout",
          "text": [
            "/content/drive/MyDrive/nasa_space_app/extracted_data/space_apps_2024_seismic_detection/data/lunar/training/catalogs\n",
            "/content/drive/MyDrive/nasa_space_app/extracted_data/space_apps_2024_seismic_detection/data/lunar/training/data\n",
            "/content/drive/MyDrive/nasa_space_app/extracted_data/space_apps_2024_seismic_detection/data/lunar/training/plots\n"
          ]
        }
      ]
    },
    {
      "cell_type": "code",
      "source": [
        "\n",
        "\n",
        "# Define the paths\n",
        "data_directory = '/content/drive/MyDrive/nasa_space_app/extracted_data/space_apps_2024_seismic_detection/data/lunar/training/'\n",
        "catalog_file = os.path.join(data_directory, 'catalogs', 'apollo12_catalog_GradeA_final.csv')\n",
        "data_folder = os.path.join(data_directory, 'data', 'S12_GradeA')  # Folder containing .mseed files\n",
        "\n",
        "# Load the catalog CSV file\n",
        "catalog_df = pd.read_csv(catalog_file)\n",
        "\n",
        "# Function to extract timestamps from .mseed files\n",
        "def extract_timestamps_from_mseed(mseed_file):\n",
        "    # Read the .mseed file\n",
        "    st = read(mseed_file)\n",
        "\n",
        "    # Extract the trace\n",
        "    tr = st.traces[0].copy()\n",
        "\n",
        "    # Start time of the trace\n",
        "    starttime = tr.stats.starttime.datetime\n",
        "\n",
        "    return starttime\n",
        "\n",
        "# Create a new DataFrame to store the results\n",
        "output_data = []\n",
        "\n",
        "# Get a list of all .mseed files in the data folder\n",
        "mseed_files = [f for f in os.listdir(data_folder) if f.endswith('.mseed')]\n",
        "\n",
        "# Iterate over the catalog DataFrame\n",
        "for index, row in catalog_df.iterrows():\n",
        "    evid = row['evid']  # Extract evid\n",
        "\n",
        "    # Use regex to search for a matching .mseed file based on evid\n",
        "    matching_file = None\n",
        "    for mseed_file in mseed_files:\n",
        "        if re.search(f\"{evid}\", mseed_file):\n",
        "            matching_file = mseed_file\n",
        "            break\n",
        "\n",
        "    # If a matching file is found\n",
        "    if matching_file:\n",
        "        # Construct the full path to the .mseed file\n",
        "        mseed_file_path = os.path.join(data_folder, matching_file)\n",
        "\n",
        "        # Extract the arrival time from the catalog DataFrame\n",
        "        arrival_time_str = row['time_abs(%Y-%m-%dT%H:%M:%S.%f)']\n",
        "        arrival_time = datetime.strptime(arrival_time_str, '%Y-%m-%dT%H:%M:%S.%f')\n",
        "\n",
        "        # Get start time from the .mseed file\n",
        "        starttime = extract_timestamps_from_mseed(mseed_file_path)\n",
        "\n",
        "        # Calculate the relative arrival time\n",
        "        arrival = (arrival_time - starttime).total_seconds()\n",
        "\n",
        "        # Append the results to the output_data list\n",
        "        output_data.append([matching_file, arrival_time_str, arrival, evid])\n",
        "\n",
        "# Create the output DataFrame\n",
        "output_df = pd.DataFrame(output_data, columns=['filename', 'time_abs(%Y-%m-%dT%H:%M:%S.%f)', 'time_rel(sec)', 'evid'])\n",
        "\n",
        "# Display the first few rows of the output DataFrame\n",
        "print(output_df.head())\n"
      ],
      "metadata": {
        "colab": {
          "base_uri": "https://localhost:8080/"
        },
        "id": "1ElNamjiNZ_J",
        "outputId": "44a23f11-6654-4efb-a61b-49126c7507d1"
      },
      "execution_count": null,
      "outputs": [
        {
          "output_type": "stream",
          "name": "stdout",
          "text": [
            "                                       filename  \\\n",
            "0  xa.s12.00.mhz.1970-01-19HR00_evid00002.mseed   \n",
            "1  xa.s12.00.mhz.1970-03-25HR00_evid00003.mseed   \n",
            "2  xa.s12.00.mhz.1970-03-26HR00_evid00004.mseed   \n",
            "3  xa.s12.00.mhz.1970-04-25HR00_evid00006.mseed   \n",
            "4  xa.s12.00.mhz.1970-04-26HR00_evid00007.mseed   \n",
            "\n",
            "  time_abs(%Y-%m-%dT%H:%M:%S.%f)  time_rel(sec)       evid  \n",
            "0     1970-01-19T20:25:00.000000      73499.335  evid00002  \n",
            "1     1970-03-25T03:32:00.000000      12719.560  evid00003  \n",
            "2     1970-03-26T20:17:00.000000      73019.435  evid00004  \n",
            "3     1970-04-25T01:14:00.000000       4439.804  evid00006  \n",
            "4     1970-04-26T14:29:00.000000      52139.340  evid00007  \n"
          ]
        }
      ]
    },
    {
      "cell_type": "code",
      "source": [
        "# prompt: in the dataframe output_df first row has .mseed extensions file. read the content in the 1st row and 1st column\n",
        "\n",
        "# Get the filename from the first row and first column\n",
        "filename = output_df.iloc[0, 0]\n",
        "\n",
        "# Construct the full path to the .mseed file\n",
        "mseed_file_path = os.path.join(data_folder, filename)\n",
        "\n",
        "# Read the content of the .mseed file\n",
        "try:\n",
        "  st = read(mseed_file_path)\n",
        "  print(f\"Content of {mseed_file_path}:\")\n",
        "  print(st)\n",
        "except Exception as e:\n",
        "  print(f\"Error reading {mseed_file_path}: {e}\")\n"
      ],
      "metadata": {
        "colab": {
          "base_uri": "https://localhost:8080/"
        },
        "id": "6wJWrIVuipOx",
        "outputId": "3d16ec18-6445-4d01-ac14-5e4a3b09488e"
      },
      "execution_count": null,
      "outputs": [
        {
          "output_type": "stream",
          "name": "stdout",
          "text": [
            "Content of /content/drive/MyDrive/nasa_space_app/extracted_data/space_apps_2024_seismic_detection/data/lunar/training/data/S12_GradeA/xa.s12.00.mhz.1970-01-19HR00_evid00002.mseed:\n",
            "1 Trace(s) in Stream:\n",
            "XA.S12.00.MHZ | 1970-01-19T00:00:00.665000Z - 1970-01-20T00:00:02.778208Z | 6.6 Hz, 572415 samples\n"
          ]
        }
      ]
    },
    {
      "cell_type": "code",
      "source": [
        "import os\n",
        "import re\n",
        "from scipy import signal\n",
        "import matplotlib.pyplot as plt\n",
        "from obspy import read\n",
        "\n",
        "# Assuming `output_df` already exists and has 'filename' column\n",
        "# `output_df` comes from the previous part of the project that includes the mseed filenames.\n",
        "\n",
        "# Folder to save spectrogram images\n",
        "output_img_folder = './spectrogram_images/'\n",
        "os.makedirs(output_img_folder, exist_ok=True)\n",
        "\n",
        "# Function to create and save a spectrogram\n",
        "def create_spectrogram(tr, filename, output_folder):\n",
        "    # Generate the spectrogram\n",
        "    f, t, Sxx = signal.spectrogram(tr.data, tr.stats.sampling_rate)\n",
        "\n",
        "    # Create the spectrogram plot\n",
        "    plt.figure(figsize=(10, 5))\n",
        "    plt.pcolormesh(t, f, Sxx, shading='gouraud', cmap='jet')\n",
        "    plt.ylabel('Frequency [Hz]')\n",
        "    plt.xlabel('Time [s]')\n",
        "    plt.title(f\"Spectrogram for {filename}\")\n",
        "\n",
        "    # Create the file path to save the image\n",
        "    img_path = os.path.join(output_folder, f\"{filename}.png\")\n",
        "\n",
        "    # Save the figure as an image\n",
        "    plt.savefig(img_path)\n",
        "    plt.close()\n",
        "\n",
        "    return img_path\n",
        "\n",
        "# Folder containing .mseed files (assuming data folder is the same as in the previous code)\n",
        "data_folder = '/content/drive/MyDrive/nasa_space_app/extracted_data/space_apps_2024_seismic_detection/data/lunar/training/data/S12_GradeA'\n",
        "\n",
        "# Iterate over the DataFrame to add spectrogram images\n",
        "spectrogram_images = []\n",
        "\n",
        "for index, row in output_df.iterrows():\n",
        "    evid = row['evid']  # Extract the evid from the DataFrame\n",
        "    filename = row['filename']  # Extract the filename\n",
        "\n",
        "    # Use regex to search for a matching .mseed file based on evid\n",
        "    matching_file = None\n",
        "    mseed_files = [f for f in os.listdir(data_folder) if f.endswith('.mseed')]  # Get list of .mseed files\n",
        "\n",
        "    for mseed_file in mseed_files:\n",
        "        if re.search(f\"{evid}\", mseed_file):  # Search for the evid in the .mseed filename\n",
        "            matching_file = mseed_file\n",
        "            break\n",
        "\n",
        "    # If a matching file is found, process it\n",
        "    if matching_file:\n",
        "        mseed_file_path = os.path.join(data_folder, matching_file)\n",
        "\n",
        "        # Read the .mseed file\n",
        "        st = read(mseed_file_path)\n",
        "        tr = st.traces[0]  # Get the first trace\n",
        "\n",
        "        # Create the spectrogram and save it as an image\n",
        "        img_path = create_spectrogram(tr, matching_file, output_img_folder)\n",
        "\n",
        "        # Append the image path to the list\n",
        "        spectrogram_images.append(img_path)\n",
        "    else:\n",
        "        # If no matching file, append a placeholder (could be None or some indication)\n",
        "        spectrogram_images.append(None)\n",
        "\n",
        "# Add the spectrogram images paths to the DataFrame\n",
        "output_df['spectrogram_image'] = spectrogram_images\n",
        "\n",
        "# Display the updated DataFrame\n",
        "print(output_df.head())\n"
      ],
      "metadata": {
        "colab": {
          "base_uri": "https://localhost:8080/"
        },
        "id": "8dRI0PX_ZAfn",
        "outputId": "cc3c6c7a-c0ea-40db-de71-d6f93a6a03bb"
      },
      "execution_count": null,
      "outputs": [
        {
          "output_type": "stream",
          "name": "stdout",
          "text": [
            "                                       filename  \\\n",
            "0  xa.s12.00.mhz.1970-01-19HR00_evid00002.mseed   \n",
            "1  xa.s12.00.mhz.1970-03-25HR00_evid00003.mseed   \n",
            "2  xa.s12.00.mhz.1970-03-26HR00_evid00004.mseed   \n",
            "3  xa.s12.00.mhz.1970-04-25HR00_evid00006.mseed   \n",
            "4  xa.s12.00.mhz.1970-04-26HR00_evid00007.mseed   \n",
            "\n",
            "  time_abs(%Y-%m-%dT%H:%M:%S.%f)  time_rel(sec)       evid  \\\n",
            "0     1970-01-19T20:25:00.000000      73499.335  evid00002   \n",
            "1     1970-03-25T03:32:00.000000      12719.560  evid00003   \n",
            "2     1970-03-26T20:17:00.000000      73019.435  evid00004   \n",
            "3     1970-04-25T01:14:00.000000       4439.804  evid00006   \n",
            "4     1970-04-26T14:29:00.000000      52139.340  evid00007   \n",
            "\n",
            "                                   spectrogram_image  \n",
            "0  ./spectrogram_images/xa.s12.00.mhz.1970-01-19H...  \n",
            "1  ./spectrogram_images/xa.s12.00.mhz.1970-03-25H...  \n",
            "2  ./spectrogram_images/xa.s12.00.mhz.1970-03-26H...  \n",
            "3  ./spectrogram_images/xa.s12.00.mhz.1970-04-25H...  \n",
            "4  ./spectrogram_images/xa.s12.00.mhz.1970-04-26H...  \n"
          ]
        }
      ]
    },
    {
      "cell_type": "markdown",
      "source": [
        "**Create a model here.**"
      ],
      "metadata": {
        "id": "3DESUGAhiro4"
      }
    },
    {
      "cell_type": "code",
      "source": [
        "# prompt: display an image in output_df frame\n",
        "\n",
        "import matplotlib.pyplot as plt\n",
        "import matplotlib.image as mpimg\n",
        "\n",
        "if 'spectrogram_image' in output_df.columns:\n",
        "  # Assuming the first row contains a valid spectrogram image\n",
        "  first_image_path = output_df['spectrogram_image'].iloc[0]\n",
        "  if first_image_path:\n",
        "    try:\n",
        "      img = mpimg.imread(first_image_path)\n",
        "      plt.imshow(img)\n",
        "      plt.axis('off')  # Turn off axis labels\n",
        "      plt.show()\n",
        "    except Exception as e:\n",
        "      print(f\"Error displaying image: {e}\")\n",
        "  else:\n",
        "    print(\"No spectrogram image found in the DataFrame.\")\n",
        "else:\n",
        "  print(\"'spectrogram_image' column not found in the DataFrame.\")\n",
        "\n"
      ],
      "metadata": {
        "colab": {
          "base_uri": "https://localhost:8080/",
          "height": 285
        },
        "id": "qamZuU4MaYLi",
        "outputId": "85c29c84-6bd5-481f-f867-6ab2289be9f7"
      },
      "execution_count": null,
      "outputs": [
        {
          "output_type": "display_data",
          "data": {
            "text/plain": [
              "<Figure size 640x480 with 1 Axes>"
            ],
            "image/png": "[encoded data removed]"
          },
          "metadata": {}
        }
      ]
    },
    {
      "cell_type": "code",
      "source": [
        "# Divide the 'time_rel(sec)' column by 86400 to convert seconds to days\n",
        "output_df['time_rel(days)'] = output_df['time_rel(sec)']\n",
        "\n",
        "# Display the updated DataFrame with the new column\n",
        "print(output_df.head())\n"
      ],
      "metadata": {
        "colab": {
          "base_uri": "https://localhost:8080/"
        },
        "id": "lnITh3JOiu-6",
        "outputId": "632e202c-508a-4a0f-a709-6e5cb63dd002"
      },
      "execution_count": null,
      "outputs": [
        {
          "output_type": "stream",
          "name": "stdout",
          "text": [
            "                                       filename  \\\n",
            "0  xa.s12.00.mhz.1970-01-19HR00_evid00002.mseed   \n",
            "1  xa.s12.00.mhz.1970-03-25HR00_evid00003.mseed   \n",
            "2  xa.s12.00.mhz.1970-03-26HR00_evid00004.mseed   \n",
            "3  xa.s12.00.mhz.1970-04-25HR00_evid00006.mseed   \n",
            "4  xa.s12.00.mhz.1970-04-26HR00_evid00007.mseed   \n",
            "\n",
            "  time_abs(%Y-%m-%dT%H:%M:%S.%f)  time_rel(sec)       evid  \\\n",
            "0     1970-01-19T20:25:00.000000      73499.335  evid00002   \n",
            "1     1970-03-25T03:32:00.000000      12719.560  evid00003   \n",
            "2     1970-03-26T20:17:00.000000      73019.435  evid00004   \n",
            "3     1970-04-25T01:14:00.000000       4439.804  evid00006   \n",
            "4     1970-04-26T14:29:00.000000      52139.340  evid00007   \n",
            "\n",
            "                                   spectrogram_image  time_rel(days)  \n",
            "0  ./spectrogram_images/xa.s12.00.mhz.1970-01-19H...       73499.335  \n",
            "1  ./spectrogram_images/xa.s12.00.mhz.1970-03-25H...       12719.560  \n",
            "2  ./spectrogram_images/xa.s12.00.mhz.1970-03-26H...       73019.435  \n",
            "3  ./spectrogram_images/xa.s12.00.mhz.1970-04-25H...        4439.804  \n",
            "4  ./spectrogram_images/xa.s12.00.mhz.1970-04-26H...       52139.340  \n"
          ]
        }
      ]
    },
    {
      "cell_type": "markdown",
      "source": [
        "**Train and test the model. **"
      ],
      "metadata": {
        "id": "3W-krSRaivYw"
      }
    },
    {
      "cell_type": "code",
      "source": [
        "# prompt: create a optimizes fine tuned CNN model to train on spectogram_image as input and time_Rel(days) as output\n",
        "\n",
        "import tensorflow as tf\n",
        "from tensorflow.keras import layers, models\n",
        "from tensorflow.keras.preprocessing.image import ImageDataGenerator\n",
        "import matplotlib.pyplot as plt\n",
        "import numpy as np\n",
        "\n",
        "# Assuming output_df contains 'spectrogram_image' and 'time_rel(days)' columns\n",
        "# and that the spectrogram images are loaded into a numpy array 'X' and\n",
        "# 'time_rel(days)' is loaded into a numpy array 'y'\n",
        "\n",
        "# Load and preprocess image data\n",
        "def load_and_preprocess_image(image_path):\n",
        "  img = tf.keras.preprocessing.image.load_img(image_path, target_size=(128, 128))\n",
        "  img_array = tf.keras.preprocessing.image.img_to_array(img)\n",
        "  img_array = img_array / 255.0  # Normalize pixel values to [0, 1]\n",
        "  return img_array\n",
        "\n",
        "\n",
        "X = []\n",
        "y = []\n",
        "for index, row in output_df.iterrows():\n",
        "  if row['spectrogram_image'] is not None:\n",
        "    try:\n",
        "      img_array = load_and_preprocess_image(row['spectrogram_image'])\n",
        "      X.append(img_array)\n",
        "      y.append(row['time_rel(days)'])\n",
        "    except Exception as e:\n",
        "      print(f\"Error loading image: {e}\")\n",
        "\n",
        "\n",
        "X = np.array(X)\n",
        "y = np.array(y)\n",
        "\n",
        "# Split data into training and testing sets\n",
        "from sklearn.model_selection import train_test_split\n",
        "X_train, X_test, y_train, y_test = train_test_split(X, y, test_size=0.2, random_state=42)\n",
        "\n",
        "# Define the CNN model\n",
        "model = models.Sequential()\n",
        "model.add(layers.Conv2D(32, (3, 3), activation='relu', input_shape=(128, 128, 3)))\n",
        "model.add(layers.MaxPooling2D((2, 2)))\n",
        "model.add(layers.Conv2D(64, (3, 3), activation='relu'))\n",
        "model.add(layers.MaxPooling2D((2, 2)))\n",
        "model.add(layers.Conv2D(128, (3, 3), activation='relu'))\n",
        "model.add(layers.MaxPooling2D((2, 2)))\n",
        "model.add(layers.Flatten())\n",
        "model.add(layers.Dense(128, activation='relu'))\n",
        "model.add(layers.Dense(1))  # Output layer for regression\n",
        "\n",
        "# Compile the model\n",
        "model.compile(optimizer='adam',\n",
        "              loss='mse',  # Mean squared error for regression\n",
        "              metrics=['mae'])  # Mean absolute error\n",
        "\n",
        "# Data augmentation for training\n",
        "datagen = ImageDataGenerator(\n",
        "    rotation_range=20,\n",
        "    width_shift_range=0.2,\n",
        "    height_shift_range=0.2,\n",
        "    shear_range=0.2,\n",
        "    zoom_range=0.2,\n",
        "    horizontal_flip=True,\n",
        "    fill_mode='nearest'\n",
        ")\n",
        "\n",
        "# Train the model with data augmentation\n",
        "history = model.fit(\n",
        "    datagen.flow(X_train, y_train, batch_size=32),\n",
        "    epochs=20,  # You can adjust the number of epochs\n",
        "    validation_data=(X_test, y_test)\n",
        ")\n",
        "\n",
        "# Evaluate the model\n",
        "loss, mae = model.evaluate(X_test, y_test)\n",
        "print('Mean Absolute Error:', mae)\n",
        "\n",
        "# Plot training history\n",
        "plt.plot(history.history['mae'])\n",
        "plt.plot(history.history['val_mae'])\n",
        "plt.title('Model MAE')\n",
        "plt.ylabel('MAE')\n",
        "plt.xlabel('Epoch')\n",
        "plt.legend(['Train', 'Validation'], loc='upper left')\n",
        "plt.show()\n"
      ],
      "metadata": {
        "colab": {
          "base_uri": "https://localhost:8080/",
          "height": 1000
        },
        "id": "-nbXj_TEi2Ig",
        "outputId": "000278a2-6dea-4214-9c33-c006adcbd8fb"
      },
      "execution_count": null,
      "outputs": [
        {
          "output_type": "stream",
          "name": "stderr",
          "text": [
            "/usr/local/lib/python3.10/dist-packages/keras/src/layers/convolutional/base_conv.py:107: UserWarning: Do not pass an `input_shape`/`input_dim` argument to a layer. When using Sequential models, prefer using an `Input(shape)` object as the first layer in the model instead.\n",
            "  super().__init__(activity_regularizer=activity_regularizer, **kwargs)\n"
          ]
        },
        {
          "output_type": "stream",
          "name": "stdout",
          "text": [
            "Epoch 1/20\n"
          ]
        },
        {
          "output_type": "stream",
          "name": "stderr",
          "text": [
            "/usr/local/lib/python3.10/dist-packages/keras/src/trainers/data_adapters/py_dataset_adapter.py:121: UserWarning: Your `PyDataset` class should call `super().__init__(**kwargs)` in its constructor. `**kwargs` can include `workers`, `use_multiprocessing`, `max_queue_size`. Do not pass these arguments to `fit()`, as they will be ignored.\n",
            "  self._warn_if_super_not_called()\n"
          ]
        },
        {
          "output_type": "stream",
          "name": "stdout",
          "text": [
            "\u001b[1m2/2\u001b[0m \u001b[32m━━━━━━━━━━━━━━━━━━━━\u001b[0m\u001b[37m\u001b[0m \u001b[1m4s\u001b[0m 1s/step - loss: 2363029760.0000 - mae: 41930.2383 - val_loss: 1945665664.0000 - val_mae: 36178.4805\n",
            "Epoch 2/20\n",
            "\u001b[1m2/2\u001b[0m \u001b[32m━━━━━━━━━━━━━━━━━━━━\u001b[0m\u001b[37m\u001b[0m \u001b[1m2s\u001b[0m 926ms/step - loss: 2539659008.0000 - mae: 43944.8594 - val_loss: 1940463360.0000 - val_mae: 36106.5156\n",
            "Epoch 3/20\n",
            "\u001b[1m2/2\u001b[0m \u001b[32m━━━━━━━━━━━━━━━━━━━━\u001b[0m\u001b[37m\u001b[0m \u001b[1m3s\u001b[0m 927ms/step - loss: 2436808704.0000 - mae: 42269.9648 - val_loss: 1926731520.0000 - val_mae: 35915.8594\n",
            "Epoch 4/20\n",
            "\u001b[1m2/2\u001b[0m \u001b[32m━━━━━━━━━━━━━━━━━━━━\u001b[0m\u001b[37m\u001b[0m \u001b[1m3s\u001b[0m 1s/step - loss: 2526050560.0000 - mae: 43652.3867 - val_loss: 1896167168.0000 - val_mae: 35487.8281\n",
            "Epoch 5/20\n",
            "\u001b[1m2/2\u001b[0m \u001b[32m━━━━━━━━━━━━━━━━━━━━\u001b[0m\u001b[37m\u001b[0m \u001b[1m4s\u001b[0m 2s/step - loss: 2542028544.0000 - mae: 44209.0703 - val_loss: 1834936192.0000 - val_mae: 34614.4297\n",
            "Epoch 6/20\n",
            "\u001b[1m2/2\u001b[0m \u001b[32m━━━━━━━━━━━━━━━━━━━━\u001b[0m\u001b[37m\u001b[0m \u001b[1m2s\u001b[0m 1s/step - loss: 2555443456.0000 - mae: 43795.2969 - val_loss: 1725102336.0000 - val_mae: 33060.4023\n",
            "Epoch 7/20\n",
            "\u001b[1m2/2\u001b[0m \u001b[32m━━━━━━━━━━━━━━━━━━━━\u001b[0m\u001b[37m\u001b[0m \u001b[1m2s\u001b[0m 1s/step - loss: 2160720128.0000 - mae: 39493.2812 - val_loss: 1543747712.0000 - val_mae: 30545.5352\n",
            "Epoch 8/20\n",
            "\u001b[1m2/2\u001b[0m \u001b[32m━━━━━━━━━━━━━━━━━━━━\u001b[0m\u001b[37m\u001b[0m \u001b[1m2s\u001b[0m 956ms/step - loss: 1884169088.0000 - mae: 35932.4492 - val_loss: 1276447744.0000 - val_mae: 27079.8730\n",
            "Epoch 9/20\n",
            "\u001b[1m2/2\u001b[0m \u001b[32m━━━━━━━━━━━━━━━━━━━━\u001b[0m\u001b[37m\u001b[0m \u001b[1m2s\u001b[0m 1s/step - loss: 1380939776.0000 - mae: 30424.3145 - val_loss: 942010880.0000 - val_mae: 24689.6855\n",
            "Epoch 10/20\n",
            "\u001b[1m2/2\u001b[0m \u001b[32m━━━━━━━━━━━━━━━━━━━━\u001b[0m\u001b[37m\u001b[0m \u001b[1m2s\u001b[0m 1s/step - loss: 1029847232.0000 - mae: 26610.4219 - val_loss: 663573504.0000 - val_mae: 22435.9062\n",
            "Epoch 11/20\n",
            "\u001b[1m2/2\u001b[0m \u001b[32m━━━━━━━━━━━━━━━━━━━━\u001b[0m\u001b[37m\u001b[0m \u001b[1m3s\u001b[0m 2s/step - loss: 755525824.0000 - mae: 23842.0820 - val_loss: 760032512.0000 - val_mae: 23650.1719\n",
            "Epoch 12/20\n",
            "\u001b[1m2/2\u001b[0m \u001b[32m━━━━━━━━━━━━━━━━━━━━\u001b[0m\u001b[37m\u001b[0m \u001b[1m3s\u001b[0m 958ms/step - loss: 796980672.0000 - mae: 23273.7266 - val_loss: 974698240.0000 - val_mae: 26189.9023\n",
            "Epoch 13/20\n",
            "\u001b[1m2/2\u001b[0m \u001b[32m━━━━━━━━━━━━━━━━━━━━\u001b[0m\u001b[37m\u001b[0m \u001b[1m2s\u001b[0m 941ms/step - loss: 958784576.0000 - mae: 24538.2031 - val_loss: 841249728.0000 - val_mae: 24448.4375\n",
            "Epoch 14/20\n",
            "\u001b[1m2/2\u001b[0m \u001b[32m━━━━━━━━━━━━━━━━━━━━\u001b[0m\u001b[37m\u001b[0m \u001b[1m2s\u001b[0m 939ms/step - loss: 808661248.0000 - mae: 22781.7578 - val_loss: 665487232.0000 - val_mae: 22444.5703\n",
            "Epoch 15/20\n",
            "\u001b[1m2/2\u001b[0m \u001b[32m━━━━━━━━━━━━━━━━━━━━\u001b[0m\u001b[37m\u001b[0m \u001b[1m2s\u001b[0m 935ms/step - loss: 633631744.0000 - mae: 21573.2715 - val_loss: 642087936.0000 - val_mae: 22434.9492\n",
            "Epoch 16/20\n",
            "\u001b[1m2/2\u001b[0m \u001b[32m━━━━━━━━━━━━━━━━━━━━\u001b[0m\u001b[37m\u001b[0m \u001b[1m2s\u001b[0m 1s/step - loss: 686227712.0000 - mae: 22715.9277 - val_loss: 684458432.0000 - val_mae: 22436.8672\n",
            "Epoch 17/20\n",
            "\u001b[1m2/2\u001b[0m \u001b[32m━━━━━━━━━━━━━━━━━━━━\u001b[0m\u001b[37m\u001b[0m \u001b[1m6s\u001b[0m 4s/step - loss: 767086208.0000 - mae: 23161.4609 - val_loss: 700084352.0000 - val_mae: 22526.8477\n",
            "Epoch 18/20\n",
            "\u001b[1m2/2\u001b[0m \u001b[32m━━━━━━━━━━━━━━━━━━━━\u001b[0m\u001b[37m\u001b[0m \u001b[1m7s\u001b[0m 929ms/step - loss: 796889792.0000 - mae: 24192.8887 - val_loss: 685067008.0000 - val_mae: 22436.6367\n",
            "Epoch 19/20\n",
            "\u001b[1m2/2\u001b[0m \u001b[32m━━━━━━━━━━━━━━━━━━━━\u001b[0m\u001b[37m\u001b[0m \u001b[1m3s\u001b[0m 917ms/step - loss: 768660928.0000 - mae: 23593.3379 - val_loss: 653918592.0000 - val_mae: 22435.4023\n",
            "Epoch 20/20\n",
            "\u001b[1m2/2\u001b[0m \u001b[32m━━━━━━━━━━━━━━━━━━━━\u001b[0m\u001b[37m\u001b[0m \u001b[1m4s\u001b[0m 2s/step - loss: 672647744.0000 - mae: 22737.1582 - val_loss: 636693312.0000 - val_mae: 22433.8906\n",
            "\u001b[1m1/1\u001b[0m \u001b[32m━━━━━━━━━━━━━━━━━━━━\u001b[0m\u001b[37m\u001b[0m \u001b[1m0s\u001b[0m 224ms/step - loss: 636693312.0000 - mae: 22433.8906\n",
            "Mean Absolute Error: 22433.890625\n"
          ]
        },
        {
          "output_type": "display_data",
          "data": {
            "text/plain": [
              "<Figure size 640x480 with 1 Axes>"
            ],
            "image/png": "[encoded data removed]"
          },
          "metadata": {}
        }
      ]
    },
    {
      "cell_type": "code",
      "source": [
        "# prompt: now take a sample from the dataframe and show me the prediction value\n",
        "\n",
        "# Assuming you have already trained the model and have the 'output_df' DataFrame.\n",
        "\n",
        "# Select a sample from the DataFrame (e.g., the first row)\n",
        "sample_row = output_df.iloc[0]\n",
        "\n",
        "# Get the spectrogram image path from the sample row\n",
        "sample_image_path = sample_row['spectrogram_image']\n",
        "\n",
        "if sample_image_path:\n",
        "  try:\n",
        "    # Load and preprocess the sample image\n",
        "    sample_image_array = load_and_preprocess_image(sample_image_path)\n",
        "    sample_image_array = np.expand_dims(sample_image_array, axis=0)  # Add batch dimension\n",
        "\n",
        "    # Make a prediction using the trained model\n",
        "    prediction = model.predict(sample_image_array)\n",
        "\n",
        "    # Get the predicted value\n",
        "    predicted_time_rel_days = prediction[0][0]\n",
        "\n",
        "    print(f\"Predicted relative arrival time (in days): {predicted_time_rel_days}\")\n",
        "\n",
        "    # Print the actual relative arrival time (for comparison)\n",
        "    actual_time_rel_days = sample_row['time_rel(days)']\n",
        "    print(f\"Actual relative arrival time (in days): {actual_time_rel_days}\")\n",
        "  except Exception as e:\n",
        "    print(f\"Error making prediction: {e}\")\n",
        "else:\n",
        "  print(\"No spectrogram image found for the sample row.\")\n"
      ],
      "metadata": {
        "colab": {
          "base_uri": "https://localhost:8080/"
        },
        "id": "Bi4pLIYccaTK",
        "outputId": "a30f345f-f9cf-4ae2-fe7c-12bb530db3e5"
      },
      "execution_count": null,
      "outputs": [
        {
          "output_type": "stream",
          "name": "stdout",
          "text": [
            "\u001b[1m1/1\u001b[0m \u001b[32m━━━━━━━━━━━━━━━━━━━━\u001b[0m\u001b[37m\u001b[0m \u001b[1m0s\u001b[0m 93ms/step\n",
            "Predicted relative arrival time (in days): 35716.7421875\n",
            "Actual relative arrival time (in days): 73499.335\n"
          ]
        }
      ]
    },
    {
      "cell_type": "markdown",
      "source": [
        "**Save the model**"
      ],
      "metadata": {
        "id": "U-nrtm72i2rR"
      }
    },
    {
      "cell_type": "code",
      "source": [
        "# prompt: train RNN on .mseed and time_rel(Sec)\n",
        "\n",
        "from google.colab import drive\n",
        "import requests\n",
        "import zipfile\n",
        "import os\n",
        "import re\n",
        "import numpy as np\n",
        "import pandas as pd\n",
        "from obspy import read\n",
        "from datetime import datetime, timedelta\n",
        "import matplotlib.pyplot as plt\n",
        "from scipy import signal\n",
        "from matplotlib import cm\n",
        "from obspy.signal.invsim import cosine_taper\n",
        "from obspy.signal.filter import highpass\n",
        "from obspy.signal.trigger import classic_sta_lta, plot_trigger, trigger_onset\n",
        "import matplotlib.image as mpimg\n",
        "import tensorflow as tf\n",
        "from tensorflow.keras import layers, models\n",
        "from tensorflow.keras.preprocessing.image import ImageDataGenerator\n",
        "from sklearn.model_selection import train_test_split\n",
        "\n",
        "# Assuming output_df contains 'filename' and 'time_rel(sec)' columns\n",
        "# and that the .mseed files are located in 'data_folder'.\n",
        "\n",
        "# Function to load and preprocess .mseed data\n",
        "def load_and_preprocess_mseed(mseed_file_path, max_length=1000):\n",
        "  try:\n",
        "    st = read(mseed_file_path)\n",
        "    tr = st[0]  # Assuming only one trace\n",
        "    data = tr.data[:max_length]  # Truncate to a fixed length\n",
        "    # Normalize data if needed\n",
        "    # ...\n",
        "    return data\n",
        "  except Exception as e:\n",
        "    print(f\"Error loading {mseed_file_path}: {e}\")\n",
        "    return None\n",
        "\n",
        "\n",
        "X = []\n",
        "y = []\n",
        "\n",
        "data_folder = '/content/drive/MyDrive/nasa_space_app/extracted_data/space_apps_2024_seismic_detection/data/lunar/training/data/S12_GradeA'\n",
        "for index, row in output_df.iterrows():\n",
        "  filename = row['filename']\n",
        "  mseed_file_path = os.path.join(data_folder, filename)\n",
        "  data = load_and_preprocess_mseed(mseed_file_path)\n",
        "  if data is not None:\n",
        "    X.append(data)\n",
        "    y.append(row['time_rel(sec)'])\n",
        "\n",
        "X = np.array(X)\n",
        "y = np.array(y)\n",
        "\n",
        "# Reshape X for RNN input (samples, timesteps, features)\n",
        "X = X.reshape(X.shape[0], X.shape[1], 1)\n",
        "\n",
        "# Split data into training and testing sets\n",
        "X_train, X_test, y_train, y_test = train_test_split(X, y, test_size=0.2, random_state=42)\n",
        "\n",
        "# Define the RNN model\n",
        "model = models.Sequential()\n",
        "model.add(layers.LSTM(64, input_shape=(X_train.shape[1], X_train.shape[2])))\n",
        "model.add(layers.Dense(1))\n",
        "\n",
        "# Compile the model\n",
        "model.compile(optimizer='adam', loss='mse', metrics=['mae'])\n",
        "\n",
        "# Train the model\n",
        "history = model.fit(X_train, y_train, epochs=40, batch_size=8, validation_split=0.2)\n",
        "\n",
        "# Evaluate the model\n",
        "loss, mae = model.evaluate(X_test, y_test)\n",
        "print('Mean Absolute Error:', mae)\n",
        "\n",
        "# Plot training history\n",
        "plt.plot(history.history['mae'])\n",
        "plt.plot(history.history['val_mae'])\n",
        "plt.title('Model MAE')\n",
        "plt.ylabel('MAE')\n",
        "plt.xlabel('Epoch')\n",
        "plt.legend(['Train', 'Validation'], loc='upper left')\n",
        "plt.show()\n",
        "\n",
        "# Make predictions on the test set\n",
        "predictions = model.predict(X_test)\n",
        "\n",
        "# Compare predictions with actual values\n",
        "plt.scatter(y_test, predictions)\n",
        "plt.xlabel('Actual time_rel(sec)')\n",
        "plt.ylabel('Predicted time_rel(sec)')\n",
        "plt.title('RNN Prediction vs. Actual')\n",
        "plt.show()\n",
        "\n"
      ],
      "metadata": {
        "colab": {
          "base_uri": "https://localhost:8080/",
          "height": 1000
        },
        "id": "3Fmy3Ctni7nk",
        "outputId": "37601600-0d0e-4bbd-dc2a-4ac00501fef6"
      },
      "execution_count": null,
      "outputs": [
        {
          "output_type": "stream",
          "name": "stdout",
          "text": [
            "Epoch 1/40\n",
            "\u001b[1m6/6\u001b[0m \u001b[32m━━━━━━━━━━━━━━━━━━━━\u001b[0m\u001b[37m\u001b[0m \u001b[1m3s\u001b[0m 298ms/step - loss: 2201021696.0000 - mae: 40208.8984 - val_loss: 3486191616.0000 - val_mae: 55095.3906\n",
            "Epoch 2/40\n",
            "\u001b[1m6/6\u001b[0m \u001b[32m━━━━━━━━━━━━━━━━━━━━\u001b[0m\u001b[37m\u001b[0m \u001b[1m2s\u001b[0m 254ms/step - loss: 2190153472.0000 - mae: 39876.5234 - val_loss: 3486145792.0000 - val_mae: 55094.9727\n",
            "Epoch 3/40\n",
            "\u001b[1m6/6\u001b[0m \u001b[32m━━━━━━━━━━━━━━━━━━━━\u001b[0m\u001b[37m\u001b[0m \u001b[1m1s\u001b[0m 243ms/step - loss: 2582075136.0000 - mae: 43793.1875 - val_loss: 3485670656.0000 - val_mae: 55090.6602\n",
            "Epoch 4/40\n",
            "\u001b[1m6/6\u001b[0m \u001b[32m━━━━━━━━━━━━━━━━━━━━\u001b[0m\u001b[37m\u001b[0m \u001b[1m1s\u001b[0m 242ms/step - loss: 2301746688.0000 - mae: 39650.5469 - val_loss: 3485484800.0000 - val_mae: 55088.9727\n",
            "Epoch 5/40\n",
            "\u001b[1m6/6\u001b[0m \u001b[32m━━━━━━━━━━━━━━━━━━━━\u001b[0m\u001b[37m\u001b[0m \u001b[1m4s\u001b[0m 436ms/step - loss: 1945008512.0000 - mae: 35866.3906 - val_loss: 3485353216.0000 - val_mae: 55087.7812\n",
            "Epoch 6/40\n",
            "\u001b[1m6/6\u001b[0m \u001b[32m━━━━━━━━━━━━━━━━━━━━\u001b[0m\u001b[37m\u001b[0m \u001b[1m4s\u001b[0m 247ms/step - loss: 2325120512.0000 - mae: 41040.5469 - val_loss: 3485226752.0000 - val_mae: 55086.6289\n",
            "Epoch 7/40\n",
            "\u001b[1m6/6\u001b[0m \u001b[32m━━━━━━━━━━━━━━━━━━━━\u001b[0m\u001b[37m\u001b[0m \u001b[1m3s\u001b[0m 249ms/step - loss: 2206260224.0000 - mae: 40409.4805 - val_loss: 3485114112.0000 - val_mae: 55085.6133\n",
            "Epoch 8/40\n",
            "\u001b[1m6/6\u001b[0m \u001b[32m━━━━━━━━━━━━━━━━━━━━\u001b[0m\u001b[37m\u001b[0m \u001b[1m3s\u001b[0m 239ms/step - loss: 1943689344.0000 - mae: 35568.6992 - val_loss: 3485021440.0000 - val_mae: 55084.7695\n",
            "Epoch 9/40\n",
            "\u001b[1m6/6\u001b[0m \u001b[32m━━━━━━━━━━━━━━━━━━━━\u001b[0m\u001b[37m\u001b[0m \u001b[1m3s\u001b[0m 394ms/step - loss: 2207298560.0000 - mae: 39266.4219 - val_loss: 3484941056.0000 - val_mae: 55084.0430\n",
            "Epoch 10/40\n",
            "\u001b[1m6/6\u001b[0m \u001b[32m━━━━━━━━━━━━━━━━━━━━\u001b[0m\u001b[37m\u001b[0m \u001b[1m3s\u001b[0m 417ms/step - loss: 2346085888.0000 - mae: 42206.6484 - val_loss: 3484870400.0000 - val_mae: 55083.3945\n",
            "Epoch 11/40\n",
            "\u001b[1m6/6\u001b[0m \u001b[32m━━━━━━━━━━━━━━━━━━━━\u001b[0m\u001b[37m\u001b[0m \u001b[1m2s\u001b[0m 243ms/step - loss: 2374013696.0000 - mae: 41567.9883 - val_loss: 3484806400.0000 - val_mae: 55082.8242\n",
            "Epoch 12/40\n",
            "\u001b[1m6/6\u001b[0m \u001b[32m━━━━━━━━━━━━━━━━━━━━\u001b[0m\u001b[37m\u001b[0m \u001b[1m2s\u001b[0m 238ms/step - loss: 1895165184.0000 - mae: 35634.9258 - val_loss: 3484748544.0000 - val_mae: 55082.2930\n",
            "Epoch 13/40\n",
            "\u001b[1m6/6\u001b[0m \u001b[32m━━━━━━━━━━━━━━━━━━━━\u001b[0m\u001b[37m\u001b[0m \u001b[1m1s\u001b[0m 233ms/step - loss: 2178931712.0000 - mae: 39629.2891 - val_loss: 3484691712.0000 - val_mae: 55081.7812\n",
            "Epoch 14/40\n",
            "\u001b[1m6/6\u001b[0m \u001b[32m━━━━━━━━━━━━━━━━━━━━\u001b[0m\u001b[37m\u001b[0m \u001b[1m1s\u001b[0m 245ms/step - loss: 2540107520.0000 - mae: 44363.8828 - val_loss: 3484636928.0000 - val_mae: 55081.2812\n",
            "Epoch 15/40\n",
            "\u001b[1m6/6\u001b[0m \u001b[32m━━━━━━━━━━━━━━━━━━━━\u001b[0m\u001b[37m\u001b[0m \u001b[1m3s\u001b[0m 238ms/step - loss: 2273053696.0000 - mae: 40621.3242 - val_loss: 3484584704.0000 - val_mae: 55080.8008\n",
            "Epoch 16/40\n",
            "\u001b[1m6/6\u001b[0m \u001b[32m━━━━━━━━━━━━━━━━━━━━\u001b[0m\u001b[37m\u001b[0m \u001b[1m4s\u001b[0m 419ms/step - loss: 2200570112.0000 - mae: 40153.7891 - val_loss: 3484533760.0000 - val_mae: 55080.3438\n",
            "Epoch 17/40\n",
            "\u001b[1m6/6\u001b[0m \u001b[32m━━━━━━━━━━━━━━━━━━━━\u001b[0m\u001b[37m\u001b[0m \u001b[1m3s\u001b[0m 445ms/step - loss: 2199502592.0000 - mae: 40021.3750 - val_loss: 3484483840.0000 - val_mae: 55079.8867\n",
            "Epoch 18/40\n",
            "\u001b[1m6/6\u001b[0m \u001b[32m━━━━━━━━━━━━━━━━━━━━\u001b[0m\u001b[37m\u001b[0m \u001b[1m4s\u001b[0m 243ms/step - loss: 2266968576.0000 - mae: 40195.6484 - val_loss: 3484434688.0000 - val_mae: 55079.4414\n",
            "Epoch 19/40\n",
            "\u001b[1m6/6\u001b[0m \u001b[32m━━━━━━━━━━━━━━━━━━━━\u001b[0m\u001b[37m\u001b[0m \u001b[1m3s\u001b[0m 255ms/step - loss: 2147727360.0000 - mae: 39353.1094 - val_loss: 3484385536.0000 - val_mae: 55079.0000\n",
            "Epoch 20/40\n",
            "\u001b[1m6/6\u001b[0m \u001b[32m━━━━━━━━━━━━━━━━━━━━\u001b[0m\u001b[37m\u001b[0m \u001b[1m4s\u001b[0m 462ms/step - loss: 2462621184.0000 - mae: 43081.0117 - val_loss: 3484336896.0000 - val_mae: 55078.5508\n",
            "Epoch 21/40\n",
            "\u001b[1m6/6\u001b[0m \u001b[32m━━━━━━━━━━━━━━━━━━━━\u001b[0m\u001b[37m\u001b[0m \u001b[1m4s\u001b[0m 251ms/step - loss: 1967660416.0000 - mae: 36610.4180 - val_loss: 3484290304.0000 - val_mae: 55078.1367\n",
            "Epoch 22/40\n",
            "\u001b[1m6/6\u001b[0m \u001b[32m━━━━━━━━━━━━━━━━━━━━\u001b[0m\u001b[37m\u001b[0m \u001b[1m2s\u001b[0m 252ms/step - loss: 2347279872.0000 - mae: 41292.3125 - val_loss: 3484242688.0000 - val_mae: 55077.7031\n",
            "Epoch 23/40\n",
            "\u001b[1m6/6\u001b[0m \u001b[32m━━━━━━━━━━━━━━━━━━━━\u001b[0m\u001b[37m\u001b[0m \u001b[1m1s\u001b[0m 242ms/step - loss: 2180378112.0000 - mae: 40113.3164 - val_loss: 3484195584.0000 - val_mae: 55077.2695\n",
            "Epoch 24/40\n",
            "\u001b[1m6/6\u001b[0m \u001b[32m━━━━━━━━━━━━━━━━━━━━\u001b[0m\u001b[37m\u001b[0m \u001b[1m2s\u001b[0m 240ms/step - loss: 2293365760.0000 - mae: 41132.8789 - val_loss: 3484148480.0000 - val_mae: 55076.8438\n",
            "Epoch 25/40\n",
            "\u001b[1m6/6\u001b[0m \u001b[32m━━━━━━━━━━━━━━━━━━━━\u001b[0m\u001b[37m\u001b[0m \u001b[1m3s\u001b[0m 234ms/step - loss: 1750764800.0000 - mae: 33721.9102 - val_loss: 3484101376.0000 - val_mae: 55076.4180\n",
            "Epoch 26/40\n",
            "\u001b[1m6/6\u001b[0m \u001b[32m━━━━━━━━━━━━━━━━━━━━\u001b[0m\u001b[37m\u001b[0m \u001b[1m4s\u001b[0m 411ms/step - loss: 2152483072.0000 - mae: 38166.3672 - val_loss: 3484052736.0000 - val_mae: 55075.9805\n",
            "Epoch 27/40\n",
            "\u001b[1m6/6\u001b[0m \u001b[32m━━━━━━━━━━━━━━━━━━━━\u001b[0m\u001b[37m\u001b[0m \u001b[1m2s\u001b[0m 384ms/step - loss: 2216141056.0000 - mae: 40874.1875 - val_loss: 3484004352.0000 - val_mae: 55075.5430\n",
            "Epoch 28/40\n",
            "\u001b[1m6/6\u001b[0m \u001b[32m━━━━━━━━━━━━━━━━━━━━\u001b[0m\u001b[37m\u001b[0m \u001b[1m1s\u001b[0m 245ms/step - loss: 2238061312.0000 - mae: 41007.9375 - val_loss: 3483957248.0000 - val_mae: 55075.1055\n",
            "Epoch 29/40\n",
            "\u001b[1m6/6\u001b[0m \u001b[32m━━━━━━━━━━━━━━━━━━━━\u001b[0m\u001b[37m\u001b[0m \u001b[1m1s\u001b[0m 244ms/step - loss: 2225820416.0000 - mae: 40185.1562 - val_loss: 3483909120.0000 - val_mae: 55074.6758\n",
            "Epoch 30/40\n",
            "\u001b[1m6/6\u001b[0m \u001b[32m━━━━━━━━━━━━━━━━━━━━\u001b[0m\u001b[37m\u001b[0m \u001b[1m2s\u001b[0m 240ms/step - loss: 2287455488.0000 - mae: 41333.6055 - val_loss: 3483861760.0000 - val_mae: 55074.2383\n",
            "Epoch 31/40\n",
            "\u001b[1m6/6\u001b[0m \u001b[32m━━━━━━━━━━━━━━━━━━━━\u001b[0m\u001b[37m\u001b[0m \u001b[1m3s\u001b[0m 261ms/step - loss: 2420229632.0000 - mae: 43353.1289 - val_loss: 3483814144.0000 - val_mae: 55073.8125\n",
            "Epoch 32/40\n",
            "\u001b[1m6/6\u001b[0m \u001b[32m━━━━━━━━━━━━━━━━━━━━\u001b[0m\u001b[37m\u001b[0m \u001b[1m3s\u001b[0m 375ms/step - loss: 2161028096.0000 - mae: 39921.8867 - val_loss: 3483768064.0000 - val_mae: 55073.3945\n",
            "Epoch 33/40\n",
            "\u001b[1m6/6\u001b[0m \u001b[32m━━━━━━━━━━━━━━━━━━━━\u001b[0m\u001b[37m\u001b[0m \u001b[1m3s\u001b[0m 438ms/step - loss: 2489685504.0000 - mae: 43767.4023 - val_loss: 3483721472.0000 - val_mae: 55072.9688\n",
            "Epoch 34/40\n",
            "\u001b[1m6/6\u001b[0m \u001b[32m━━━━━━━━━━━━━━━━━━━━\u001b[0m\u001b[37m\u001b[0m \u001b[1m4s\u001b[0m 238ms/step - loss: 2292527104.0000 - mae: 40453.2305 - val_loss: 3483675904.0000 - val_mae: 55072.5508\n",
            "Epoch 35/40\n",
            "\u001b[1m6/6\u001b[0m \u001b[32m━━━━━━━━━━━━━━━━━━━━\u001b[0m\u001b[37m\u001b[0m \u001b[1m3s\u001b[0m 245ms/step - loss: 2543677184.0000 - mae: 43152.1133 - val_loss: 3483629312.0000 - val_mae: 55072.1289\n",
            "Epoch 36/40\n",
            "\u001b[1m6/6\u001b[0m \u001b[32m━━━━━━━━━━━━━━━━━━━━\u001b[0m\u001b[37m\u001b[0m \u001b[1m3s\u001b[0m 244ms/step - loss: 1941617280.0000 - mae: 36255.0820 - val_loss: 3483584512.0000 - val_mae: 55071.7227\n",
            "Epoch 37/40\n",
            "\u001b[1m6/6\u001b[0m \u001b[32m━━━━━━━━━━━━━━━━━━━━\u001b[0m\u001b[37m\u001b[0m \u001b[1m2s\u001b[0m 276ms/step - loss: 2183707136.0000 - mae: 39619.6484 - val_loss: 3483538688.0000 - val_mae: 55071.3125\n",
            "Epoch 38/40\n",
            "\u001b[1m6/6\u001b[0m \u001b[32m━━━━━━━━━━━━━━━━━━━━\u001b[0m\u001b[37m\u001b[0m \u001b[1m3s\u001b[0m 422ms/step - loss: 2207465728.0000 - mae: 39455.1484 - val_loss: 3483493376.0000 - val_mae: 55070.8945\n",
            "Epoch 39/40\n",
            "\u001b[1m6/6\u001b[0m \u001b[32m━━━━━━━━━━━━━━━━━━━━\u001b[0m\u001b[37m\u001b[0m \u001b[1m2s\u001b[0m 250ms/step - loss: 1846182912.0000 - mae: 34553.0391 - val_loss: 3483449088.0000 - val_mae: 55070.4883\n",
            "Epoch 40/40\n",
            "\u001b[1m6/6\u001b[0m \u001b[32m━━━━━━━━━━━━━━━━━━━━\u001b[0m\u001b[37m\u001b[0m \u001b[1m1s\u001b[0m 237ms/step - loss: 2365207552.0000 - mae: 41279.7617 - val_loss: 3483403008.0000 - val_mae: 55070.0781\n",
            "\u001b[1m1/1\u001b[0m \u001b[32m━━━━━━━━━━━━━━━━━━━━\u001b[0m\u001b[37m\u001b[0m \u001b[1m0s\u001b[0m 107ms/step - loss: 1945266432.0000 - mae: 36172.9609\n",
            "Mean Absolute Error: 36172.9609375\n"
          ]
        },
        {
          "output_type": "display_data",
          "data": {
            "text/plain": [
              "<Figure size 640x480 with 1 Axes>"
            ],
            "image/png": "[encoded data removed]"
          },
          "metadata": {}
        },
        {
          "output_type": "stream",
          "name": "stderr",
          "text": [
            "WARNING:tensorflow:5 out of the last 5 calls to <function TensorFlowTrainer.make_predict_function.<locals>.one_step_on_data_distributed at 0x7c3d543936d0> triggered tf.function retracing. Tracing is expensive and the excessive number of tracings could be due to (1) creating @tf.function repeatedly in a loop, (2) passing tensors with different shapes, (3) passing Python objects instead of tensors. For (1), please define your @tf.function outside of the loop. For (2), @tf.function has reduce_retracing=True option that can avoid unnecessary retracing. For (3), please refer to https://www.tensorflow.org/guide/function#controlling_retracing and https://www.tensorflow.org/api_docs/python/tf/function for  more details.\n"
          ]
        },
        {
          "output_type": "stream",
          "name": "stdout",
          "text": [
            "\u001b[1m1/1\u001b[0m \u001b[32m━━━━━━━━━━━━━━━━━━━━\u001b[0m\u001b[37m\u001b[0m \u001b[1m0s\u001b[0m 268ms/step\n"
          ]
        },
        {
          "output_type": "display_data",
          "data": {
            "text/plain": [
              "<Figure size 640x480 with 1 Axes>"
            ],
            "image/png": "[encoded data removed]"
          },
          "metadata": {}
        }
      ]
    }
  ]
}